{
  "cells": [
    {
      "cell_type": "markdown",
      "metadata": {
        "id": "view-in-github",
        "colab_type": "text"
      },
      "source": [
        "<a href=\"https://colab.research.google.com/github/Virum9520/Fake-News-Classifier/blob/main/Fake_News_Classifier.ipynb\" target=\"_parent\"><img src=\"https://colab.research.google.com/assets/colab-badge.svg\" alt=\"Open In Colab\"/></a>"
      ]
    },
    {
      "cell_type": "raw",
      "source": [
        "#Fake News Classifier"
      ],
      "metadata": {
        "collapsed": false,
        "id": "a1dadb4d40626ef4"
      },
      "id": "a1dadb4d40626ef4"
    },
    {
      "cell_type": "code",
      "execution_count": null,
      "outputs": [],
      "source": [
        "import pandas as pd\n",
        "\n",
        "df = pd.read_csv('Datasets/train.csv')"
      ],
      "metadata": {
        "ExecuteTime": {
          "end_time": "2023-09-04T14:54:46.716061Z",
          "start_time": "2023-09-04T14:54:45.595160Z"
        },
        "id": "b18bba2677e4468b"
      },
      "id": "b18bba2677e4468b"
    },
    {
      "cell_type": "code",
      "execution_count": null,
      "outputs": [
        {
          "data": {
            "text/plain": "   id                                              title              author  \\\n0   0  House Dem Aide: We Didn’t Even See Comey’s Let...       Darrell Lucus   \n1   1  FLYNN: Hillary Clinton, Big Woman on Campus - ...     Daniel J. Flynn   \n2   2                  Why the Truth Might Get You Fired  Consortiumnews.com   \n3   3  15 Civilians Killed In Single US Airstrike Hav...     Jessica Purkiss   \n4   4  Iranian woman jailed for fictional unpublished...      Howard Portnoy   \n\n                                                text  label  \n0  House Dem Aide: We Didn’t Even See Comey’s Let...      1  \n1  Ever get the feeling your life circles the rou...      0  \n2  Why the Truth Might Get You Fired October 29, ...      1  \n3  Videos 15 Civilians Killed In Single US Airstr...      1  \n4  Print \\nAn Iranian woman has been sentenced to...      1  ",
            "text/html": "<div>\n<style scoped>\n    .dataframe tbody tr th:only-of-type {\n        vertical-align: middle;\n    }\n\n    .dataframe tbody tr th {\n        vertical-align: top;\n    }\n\n    .dataframe thead th {\n        text-align: right;\n    }\n</style>\n<table border=\"1\" class=\"dataframe\">\n  <thead>\n    <tr style=\"text-align: right;\">\n      <th></th>\n      <th>id</th>\n      <th>title</th>\n      <th>author</th>\n      <th>text</th>\n      <th>label</th>\n    </tr>\n  </thead>\n  <tbody>\n    <tr>\n      <th>0</th>\n      <td>0</td>\n      <td>House Dem Aide: We Didn’t Even See Comey’s Let...</td>\n      <td>Darrell Lucus</td>\n      <td>House Dem Aide: We Didn’t Even See Comey’s Let...</td>\n      <td>1</td>\n    </tr>\n    <tr>\n      <th>1</th>\n      <td>1</td>\n      <td>FLYNN: Hillary Clinton, Big Woman on Campus - ...</td>\n      <td>Daniel J. Flynn</td>\n      <td>Ever get the feeling your life circles the rou...</td>\n      <td>0</td>\n    </tr>\n    <tr>\n      <th>2</th>\n      <td>2</td>\n      <td>Why the Truth Might Get You Fired</td>\n      <td>Consortiumnews.com</td>\n      <td>Why the Truth Might Get You Fired October 29, ...</td>\n      <td>1</td>\n    </tr>\n    <tr>\n      <th>3</th>\n      <td>3</td>\n      <td>15 Civilians Killed In Single US Airstrike Hav...</td>\n      <td>Jessica Purkiss</td>\n      <td>Videos 15 Civilians Killed In Single US Airstr...</td>\n      <td>1</td>\n    </tr>\n    <tr>\n      <th>4</th>\n      <td>4</td>\n      <td>Iranian woman jailed for fictional unpublished...</td>\n      <td>Howard Portnoy</td>\n      <td>Print \\nAn Iranian woman has been sentenced to...</td>\n      <td>1</td>\n    </tr>\n  </tbody>\n</table>\n</div>"
          },
          "execution_count": 2,
          "metadata": {},
          "output_type": "execute_result"
        }
      ],
      "source": [
        "df.head()"
      ],
      "metadata": {
        "ExecuteTime": {
          "end_time": "2023-09-04T14:54:46.723941Z",
          "start_time": "2023-09-04T14:54:46.718301Z"
        },
        "id": "358006cfed9b906c",
        "outputId": "eefb4513-786d-425f-b0ee-dd9172d84dfd"
      },
      "id": "358006cfed9b906c"
    },
    {
      "cell_type": "code",
      "execution_count": null,
      "outputs": [],
      "source": [
        "X = df.drop('label',axis=1)"
      ],
      "metadata": {
        "ExecuteTime": {
          "end_time": "2023-09-04T14:54:47.911296Z",
          "start_time": "2023-09-04T14:54:47.905839Z"
        },
        "id": "8bfdf2c325bdd84d"
      },
      "id": "8bfdf2c325bdd84d"
    },
    {
      "cell_type": "code",
      "execution_count": null,
      "outputs": [
        {
          "data": {
            "text/plain": "   id                                              title              author  \\\n0   0  House Dem Aide: We Didn’t Even See Comey’s Let...       Darrell Lucus   \n1   1  FLYNN: Hillary Clinton, Big Woman on Campus - ...     Daniel J. Flynn   \n2   2                  Why the Truth Might Get You Fired  Consortiumnews.com   \n3   3  15 Civilians Killed In Single US Airstrike Hav...     Jessica Purkiss   \n4   4  Iranian woman jailed for fictional unpublished...      Howard Portnoy   \n\n                                                text  \n0  House Dem Aide: We Didn’t Even See Comey’s Let...  \n1  Ever get the feeling your life circles the rou...  \n2  Why the Truth Might Get You Fired October 29, ...  \n3  Videos 15 Civilians Killed In Single US Airstr...  \n4  Print \\nAn Iranian woman has been sentenced to...  ",
            "text/html": "<div>\n<style scoped>\n    .dataframe tbody tr th:only-of-type {\n        vertical-align: middle;\n    }\n\n    .dataframe tbody tr th {\n        vertical-align: top;\n    }\n\n    .dataframe thead th {\n        text-align: right;\n    }\n</style>\n<table border=\"1\" class=\"dataframe\">\n  <thead>\n    <tr style=\"text-align: right;\">\n      <th></th>\n      <th>id</th>\n      <th>title</th>\n      <th>author</th>\n      <th>text</th>\n    </tr>\n  </thead>\n  <tbody>\n    <tr>\n      <th>0</th>\n      <td>0</td>\n      <td>House Dem Aide: We Didn’t Even See Comey’s Let...</td>\n      <td>Darrell Lucus</td>\n      <td>House Dem Aide: We Didn’t Even See Comey’s Let...</td>\n    </tr>\n    <tr>\n      <th>1</th>\n      <td>1</td>\n      <td>FLYNN: Hillary Clinton, Big Woman on Campus - ...</td>\n      <td>Daniel J. Flynn</td>\n      <td>Ever get the feeling your life circles the rou...</td>\n    </tr>\n    <tr>\n      <th>2</th>\n      <td>2</td>\n      <td>Why the Truth Might Get You Fired</td>\n      <td>Consortiumnews.com</td>\n      <td>Why the Truth Might Get You Fired October 29, ...</td>\n    </tr>\n    <tr>\n      <th>3</th>\n      <td>3</td>\n      <td>15 Civilians Killed In Single US Airstrike Hav...</td>\n      <td>Jessica Purkiss</td>\n      <td>Videos 15 Civilians Killed In Single US Airstr...</td>\n    </tr>\n    <tr>\n      <th>4</th>\n      <td>4</td>\n      <td>Iranian woman jailed for fictional unpublished...</td>\n      <td>Howard Portnoy</td>\n      <td>Print \\nAn Iranian woman has been sentenced to...</td>\n    </tr>\n  </tbody>\n</table>\n</div>"
          },
          "execution_count": 4,
          "metadata": {},
          "output_type": "execute_result"
        }
      ],
      "source": [
        "X.head()"
      ],
      "metadata": {
        "ExecuteTime": {
          "end_time": "2023-09-04T14:54:48.930830Z",
          "start_time": "2023-09-04T14:54:48.925943Z"
        },
        "id": "2846764a0f5afa67",
        "outputId": "885af530-8d6e-4b17-fa9e-1f38c5730358"
      },
      "id": "2846764a0f5afa67"
    },
    {
      "cell_type": "code",
      "execution_count": null,
      "outputs": [
        {
          "data": {
            "text/plain": "(20800, 5)"
          },
          "execution_count": 6,
          "metadata": {},
          "output_type": "execute_result"
        }
      ],
      "source": [
        "df.shape"
      ],
      "metadata": {
        "ExecuteTime": {
          "end_time": "2023-09-04T14:55:34.301869Z",
          "start_time": "2023-09-04T14:55:34.285056Z"
        },
        "id": "62dea13e3f0f66b",
        "outputId": "910a2700-59d8-4f22-f28d-1938c061f726"
      },
      "id": "62dea13e3f0f66b"
    },
    {
      "cell_type": "code",
      "execution_count": null,
      "outputs": [],
      "source": [
        "from sklearn.feature_extraction.text import CountVectorizer"
      ],
      "metadata": {
        "ExecuteTime": {
          "end_time": "2023-09-04T14:56:33.777457Z",
          "start_time": "2023-09-04T14:56:33.770714Z"
        },
        "id": "a33f2518f22df538"
      },
      "id": "a33f2518f22df538"
    },
    {
      "cell_type": "code",
      "execution_count": null,
      "outputs": [
        {
          "name": "stdout",
          "output_type": "stream",
          "text": [
            "<class 'pandas.core.frame.DataFrame'>\n",
            "RangeIndex: 20800 entries, 0 to 20799\n",
            "Data columns (total 5 columns):\n",
            " #   Column  Non-Null Count  Dtype \n",
            "---  ------  --------------  ----- \n",
            " 0   id      20800 non-null  int64 \n",
            " 1   title   20242 non-null  object\n",
            " 2   author  18843 non-null  object\n",
            " 3   text    20761 non-null  object\n",
            " 4   label   20800 non-null  int64 \n",
            "dtypes: int64(2), object(3)\n",
            "memory usage: 812.6+ KB\n"
          ]
        }
      ],
      "source": [
        "df.info()"
      ],
      "metadata": {
        "ExecuteTime": {
          "end_time": "2023-09-04T14:56:35.241798Z",
          "start_time": "2023-09-04T14:56:35.229049Z"
        },
        "id": "705fb3ee84c23b84",
        "outputId": "4d6b62b7-9489-43f4-c131-f71038b813dc"
      },
      "id": "705fb3ee84c23b84"
    },
    {
      "cell_type": "code",
      "execution_count": null,
      "outputs": [],
      "source": [
        "df.dropna(inplace=True)"
      ],
      "metadata": {
        "ExecuteTime": {
          "end_time": "2023-09-04T14:56:37.534464Z",
          "start_time": "2023-09-04T14:56:37.529100Z"
        },
        "id": "d64097a952f4dc8f"
      },
      "id": "d64097a952f4dc8f"
    },
    {
      "cell_type": "code",
      "execution_count": null,
      "outputs": [],
      "source": [
        "df.reset_index(inplace=True)"
      ],
      "metadata": {
        "ExecuteTime": {
          "end_time": "2023-09-04T14:56:39.751464Z",
          "start_time": "2023-09-04T14:56:39.745070Z"
        },
        "id": "22f8a777c73fe51f"
      },
      "id": "22f8a777c73fe51f"
    },
    {
      "cell_type": "code",
      "execution_count": null,
      "outputs": [
        {
          "data": {
            "text/plain": "   index  id                                              title  \\\n0      0   0  House Dem Aide: We Didn’t Even See Comey’s Let...   \n1      1   1  FLYNN: Hillary Clinton, Big Woman on Campus - ...   \n2      2   2                  Why the Truth Might Get You Fired   \n3      3   3  15 Civilians Killed In Single US Airstrike Hav...   \n4      4   4  Iranian woman jailed for fictional unpublished...   \n5      5   5  Jackie Mason: Hollywood Would Love Trump if He...   \n6      7   7  Benoît Hamon Wins French Socialist Party’s Pre...   \n7      9   9  A Back-Channel Plan for Ukraine and Russia, Co...   \n8     10  10  Obama’s Organizing for Action Partners with So...   \n9     11  11  BBC Comedy Sketch \"Real Housewives of ISIS\" Ca...   \n\n                         author  \\\n0                 Darrell Lucus   \n1               Daniel J. Flynn   \n2            Consortiumnews.com   \n3               Jessica Purkiss   \n4                Howard Portnoy   \n5               Daniel Nussbaum   \n6               Alissa J. Rubin   \n7  Megan Twohey and Scott Shane   \n8                   Aaron Klein   \n9               Chris Tomlinson   \n\n                                                text  label  \n0  House Dem Aide: We Didn’t Even See Comey’s Let...      1  \n1  Ever get the feeling your life circles the rou...      0  \n2  Why the Truth Might Get You Fired October 29, ...      1  \n3  Videos 15 Civilians Killed In Single US Airstr...      1  \n4  Print \\nAn Iranian woman has been sentenced to...      1  \n5  In these trying times, Jackie Mason is the Voi...      0  \n6  PARIS  —   France chose an idealistic, traditi...      0  \n7  A week before Michael T. Flynn resigned as nat...      0  \n8  Organizing for Action, the activist group that...      0  \n9  The BBC produced spoof on the “Real Housewives...      0  ",
            "text/html": "<div>\n<style scoped>\n    .dataframe tbody tr th:only-of-type {\n        vertical-align: middle;\n    }\n\n    .dataframe tbody tr th {\n        vertical-align: top;\n    }\n\n    .dataframe thead th {\n        text-align: right;\n    }\n</style>\n<table border=\"1\" class=\"dataframe\">\n  <thead>\n    <tr style=\"text-align: right;\">\n      <th></th>\n      <th>index</th>\n      <th>id</th>\n      <th>title</th>\n      <th>author</th>\n      <th>text</th>\n      <th>label</th>\n    </tr>\n  </thead>\n  <tbody>\n    <tr>\n      <th>0</th>\n      <td>0</td>\n      <td>0</td>\n      <td>House Dem Aide: We Didn’t Even See Comey’s Let...</td>\n      <td>Darrell Lucus</td>\n      <td>House Dem Aide: We Didn’t Even See Comey’s Let...</td>\n      <td>1</td>\n    </tr>\n    <tr>\n      <th>1</th>\n      <td>1</td>\n      <td>1</td>\n      <td>FLYNN: Hillary Clinton, Big Woman on Campus - ...</td>\n      <td>Daniel J. Flynn</td>\n      <td>Ever get the feeling your life circles the rou...</td>\n      <td>0</td>\n    </tr>\n    <tr>\n      <th>2</th>\n      <td>2</td>\n      <td>2</td>\n      <td>Why the Truth Might Get You Fired</td>\n      <td>Consortiumnews.com</td>\n      <td>Why the Truth Might Get You Fired October 29, ...</td>\n      <td>1</td>\n    </tr>\n    <tr>\n      <th>3</th>\n      <td>3</td>\n      <td>3</td>\n      <td>15 Civilians Killed In Single US Airstrike Hav...</td>\n      <td>Jessica Purkiss</td>\n      <td>Videos 15 Civilians Killed In Single US Airstr...</td>\n      <td>1</td>\n    </tr>\n    <tr>\n      <th>4</th>\n      <td>4</td>\n      <td>4</td>\n      <td>Iranian woman jailed for fictional unpublished...</td>\n      <td>Howard Portnoy</td>\n      <td>Print \\nAn Iranian woman has been sentenced to...</td>\n      <td>1</td>\n    </tr>\n    <tr>\n      <th>5</th>\n      <td>5</td>\n      <td>5</td>\n      <td>Jackie Mason: Hollywood Would Love Trump if He...</td>\n      <td>Daniel Nussbaum</td>\n      <td>In these trying times, Jackie Mason is the Voi...</td>\n      <td>0</td>\n    </tr>\n    <tr>\n      <th>6</th>\n      <td>7</td>\n      <td>7</td>\n      <td>Benoît Hamon Wins French Socialist Party’s Pre...</td>\n      <td>Alissa J. Rubin</td>\n      <td>PARIS  —   France chose an idealistic, traditi...</td>\n      <td>0</td>\n    </tr>\n    <tr>\n      <th>7</th>\n      <td>9</td>\n      <td>9</td>\n      <td>A Back-Channel Plan for Ukraine and Russia, Co...</td>\n      <td>Megan Twohey and Scott Shane</td>\n      <td>A week before Michael T. Flynn resigned as nat...</td>\n      <td>0</td>\n    </tr>\n    <tr>\n      <th>8</th>\n      <td>10</td>\n      <td>10</td>\n      <td>Obama’s Organizing for Action Partners with So...</td>\n      <td>Aaron Klein</td>\n      <td>Organizing for Action, the activist group that...</td>\n      <td>0</td>\n    </tr>\n    <tr>\n      <th>9</th>\n      <td>11</td>\n      <td>11</td>\n      <td>BBC Comedy Sketch \"Real Housewives of ISIS\" Ca...</td>\n      <td>Chris Tomlinson</td>\n      <td>The BBC produced spoof on the “Real Housewives...</td>\n      <td>0</td>\n    </tr>\n  </tbody>\n</table>\n</div>"
          },
          "execution_count": 12,
          "metadata": {},
          "output_type": "execute_result"
        }
      ],
      "source": [
        "df.head(10)"
      ],
      "metadata": {
        "ExecuteTime": {
          "end_time": "2023-09-04T14:56:41.258782Z",
          "start_time": "2023-09-04T14:56:41.253623Z"
        },
        "id": "39ebe7b9d11daab5",
        "outputId": "de819565-7b6e-471a-8064-499127bb6a8a"
      },
      "id": "39ebe7b9d11daab5"
    },
    {
      "cell_type": "code",
      "execution_count": null,
      "outputs": [],
      "source": [
        "y = df.label"
      ],
      "metadata": {
        "ExecuteTime": {
          "end_time": "2023-09-04T14:56:44.383225Z",
          "start_time": "2023-09-04T14:56:44.375105Z"
        },
        "id": "390b5692fcebb10"
      },
      "id": "390b5692fcebb10"
    },
    {
      "cell_type": "code",
      "execution_count": null,
      "outputs": [],
      "source": [
        "from nltk.corpus import stopwords\n",
        "from nltk.stem.porter import PorterStemmer\n",
        "ps = PorterStemmer()"
      ],
      "metadata": {
        "ExecuteTime": {
          "end_time": "2023-09-04T14:56:45.626544Z",
          "start_time": "2023-09-04T14:56:45.365788Z"
        },
        "id": "f4136fe0363b570d"
      },
      "id": "f4136fe0363b570d"
    },
    {
      "cell_type": "code",
      "execution_count": null,
      "outputs": [],
      "source": [
        "import re\n",
        "corpus = []\n",
        "for i in range(0,len(df)):\n",
        "    rev = re.sub(\"[^a-zA-Z]\",' ',df['title'][i])\n",
        "    rev = rev.lower()\n",
        "    rev = rev.split()\n",
        "\n",
        "    rev = [ps.stem(word) for word in rev if not word in stopwords.words('english')]\n",
        "    rev = ' '.join(rev)\n",
        "    corpus.append(rev)"
      ],
      "metadata": {
        "ExecuteTime": {
          "end_time": "2023-09-04T14:56:56.736833Z",
          "start_time": "2023-09-04T14:56:46.883383Z"
        },
        "id": "316ba3633278c1fc"
      },
      "id": "316ba3633278c1fc"
    },
    {
      "cell_type": "code",
      "execution_count": null,
      "outputs": [],
      "source": [
        "#Using Bag of words\n",
        "\n",
        "cv = CountVectorizer(max_features=5000, ngram_range=(1,3))\n",
        "X = cv.fit_transform(corpus).toarray()"
      ],
      "metadata": {
        "ExecuteTime": {
          "end_time": "2023-09-04T14:57:07.458366Z",
          "start_time": "2023-09-04T14:57:06.846985Z"
        },
        "id": "4051ddcfee7b3d23"
      },
      "id": "4051ddcfee7b3d23"
    },
    {
      "cell_type": "code",
      "execution_count": null,
      "outputs": [
        {
          "data": {
            "text/plain": "(18285, 5000)"
          },
          "execution_count": 18,
          "metadata": {},
          "output_type": "execute_result"
        }
      ],
      "source": [
        "X.shape"
      ],
      "metadata": {
        "ExecuteTime": {
          "end_time": "2023-09-04T14:57:12.827575Z",
          "start_time": "2023-09-04T14:57:12.819323Z"
        },
        "id": "ab3b1f1f46acc33a",
        "outputId": "9c10b5b9-14a5-482f-db0d-ebfe29beac49"
      },
      "id": "ab3b1f1f46acc33a"
    },
    {
      "cell_type": "raw",
      "source": [
        "Train Test Split"
      ],
      "metadata": {
        "collapsed": false,
        "id": "912d7648441c74b2"
      },
      "id": "912d7648441c74b2"
    },
    {
      "cell_type": "code",
      "execution_count": null,
      "outputs": [],
      "source": [
        "from sklearn.model_selection import train_test_split\n",
        "\n",
        "X_train, X_test, y_train, y_test = train_test_split(X,y,test_size=0.35,random_state=952)"
      ],
      "metadata": {
        "ExecuteTime": {
          "end_time": "2023-09-04T14:57:17.823703Z",
          "start_time": "2023-09-04T14:57:17.358443Z"
        },
        "id": "7cd945d9f50431a4"
      },
      "id": "7cd945d9f50431a4"
    },
    {
      "cell_type": "raw",
      "source": [
        "Confusion Matrix plotting Function"
      ],
      "metadata": {
        "collapsed": false,
        "id": "c1d896e313276984"
      },
      "id": "c1d896e313276984"
    },
    {
      "cell_type": "code",
      "execution_count": null,
      "outputs": [],
      "source": [
        "import itertools\n",
        "import matplotlib.pyplot as plt\n",
        "import numpy as np\n",
        "\n",
        "def plot_confusion_matrix(cm, classes,\n",
        "                          title='Confusion matrix',\n",
        "                          cmap=plt.cm.Blues):\n",
        "    plt.imshow(cm, interpolation='nearest', cmap=cmap)\n",
        "    plt.title(title)\n",
        "    plt.colorbar()\n",
        "    tick_marks = np.arange(len(classes))\n",
        "    plt.xticks(tick_marks, classes, rotation=45)\n",
        "    plt.yticks(tick_marks, classes)\n",
        "\n",
        "    thresh = cm.max() / 2.\n",
        "    for i, j in itertools.product(range(cm.shape[0]), range(cm.shape[1])):\n",
        "        plt.text(j, i, cm[i, j],\n",
        "                 horizontalalignment=\"center\",\n",
        "                 color=\"white\" if cm[i, j] > thresh else \"black\")\n",
        "\n",
        "    plt.tight_layout()\n",
        "    plt.ylabel('True label')\n",
        "    plt.xlabel('Predicted label')"
      ],
      "metadata": {
        "ExecuteTime": {
          "end_time": "2023-09-04T17:40:45.453523Z",
          "start_time": "2023-09-04T17:40:45.191381Z"
        },
        "id": "b0b45a7cf3cfeb93"
      },
      "id": "b0b45a7cf3cfeb93"
    },
    {
      "cell_type": "raw",
      "source": [
        "Naive Bayes Classifier"
      ],
      "metadata": {
        "collapsed": false,
        "id": "8488e6d9c5b93a32"
      },
      "id": "8488e6d9c5b93a32"
    },
    {
      "cell_type": "code",
      "execution_count": null,
      "outputs": [],
      "source": [
        "from sklearn.naive_bayes import MultinomialNB\n",
        "\n",
        "nb = MultinomialNB()"
      ],
      "metadata": {
        "ExecuteTime": {
          "end_time": "2023-09-04T17:42:24.257354Z",
          "start_time": "2023-09-04T17:42:24.232561Z"
        },
        "id": "5852d7e84be62da5"
      },
      "id": "5852d7e84be62da5"
    },
    {
      "cell_type": "code",
      "execution_count": null,
      "outputs": [
        {
          "data": {
            "text/plain": "MultinomialNB()",
            "text/html": "<style>#sk-container-id-1 {color: black;}#sk-container-id-1 pre{padding: 0;}#sk-container-id-1 div.sk-toggleable {background-color: white;}#sk-container-id-1 label.sk-toggleable__label {cursor: pointer;display: block;width: 100%;margin-bottom: 0;padding: 0.3em;box-sizing: border-box;text-align: center;}#sk-container-id-1 label.sk-toggleable__label-arrow:before {content: \"▸\";float: left;margin-right: 0.25em;color: #696969;}#sk-container-id-1 label.sk-toggleable__label-arrow:hover:before {color: black;}#sk-container-id-1 div.sk-estimator:hover label.sk-toggleable__label-arrow:before {color: black;}#sk-container-id-1 div.sk-toggleable__content {max-height: 0;max-width: 0;overflow: hidden;text-align: left;background-color: #f0f8ff;}#sk-container-id-1 div.sk-toggleable__content pre {margin: 0.2em;color: black;border-radius: 0.25em;background-color: #f0f8ff;}#sk-container-id-1 input.sk-toggleable__control:checked~div.sk-toggleable__content {max-height: 200px;max-width: 100%;overflow: auto;}#sk-container-id-1 input.sk-toggleable__control:checked~label.sk-toggleable__label-arrow:before {content: \"▾\";}#sk-container-id-1 div.sk-estimator input.sk-toggleable__control:checked~label.sk-toggleable__label {background-color: #d4ebff;}#sk-container-id-1 div.sk-label input.sk-toggleable__control:checked~label.sk-toggleable__label {background-color: #d4ebff;}#sk-container-id-1 input.sk-hidden--visually {border: 0;clip: rect(1px 1px 1px 1px);clip: rect(1px, 1px, 1px, 1px);height: 1px;margin: -1px;overflow: hidden;padding: 0;position: absolute;width: 1px;}#sk-container-id-1 div.sk-estimator {font-family: monospace;background-color: #f0f8ff;border: 1px dotted black;border-radius: 0.25em;box-sizing: border-box;margin-bottom: 0.5em;}#sk-container-id-1 div.sk-estimator:hover {background-color: #d4ebff;}#sk-container-id-1 div.sk-parallel-item::after {content: \"\";width: 100%;border-bottom: 1px solid gray;flex-grow: 1;}#sk-container-id-1 div.sk-label:hover label.sk-toggleable__label {background-color: #d4ebff;}#sk-container-id-1 div.sk-serial::before {content: \"\";position: absolute;border-left: 1px solid gray;box-sizing: border-box;top: 0;bottom: 0;left: 50%;z-index: 0;}#sk-container-id-1 div.sk-serial {display: flex;flex-direction: column;align-items: center;background-color: white;padding-right: 0.2em;padding-left: 0.2em;position: relative;}#sk-container-id-1 div.sk-item {position: relative;z-index: 1;}#sk-container-id-1 div.sk-parallel {display: flex;align-items: stretch;justify-content: center;background-color: white;position: relative;}#sk-container-id-1 div.sk-item::before, #sk-container-id-1 div.sk-parallel-item::before {content: \"\";position: absolute;border-left: 1px solid gray;box-sizing: border-box;top: 0;bottom: 0;left: 50%;z-index: -1;}#sk-container-id-1 div.sk-parallel-item {display: flex;flex-direction: column;z-index: 1;position: relative;background-color: white;}#sk-container-id-1 div.sk-parallel-item:first-child::after {align-self: flex-end;width: 50%;}#sk-container-id-1 div.sk-parallel-item:last-child::after {align-self: flex-start;width: 50%;}#sk-container-id-1 div.sk-parallel-item:only-child::after {width: 0;}#sk-container-id-1 div.sk-dashed-wrapped {border: 1px dashed gray;margin: 0 0.4em 0.5em 0.4em;box-sizing: border-box;padding-bottom: 0.4em;background-color: white;}#sk-container-id-1 div.sk-label label {font-family: monospace;font-weight: bold;display: inline-block;line-height: 1.2em;}#sk-container-id-1 div.sk-label-container {text-align: center;}#sk-container-id-1 div.sk-container {/* jupyter's `normalize.less` sets `[hidden] { display: none; }` but bootstrap.min.css set `[hidden] { display: none !important; }` so we also need the `!important` here to be able to override the default hidden behavior on the sphinx rendered scikit-learn.org. See: https://github.com/scikit-learn/scikit-learn/issues/21755 */display: inline-block !important;position: relative;}#sk-container-id-1 div.sk-text-repr-fallback {display: none;}</style><div id=\"sk-container-id-1\" class=\"sk-top-container\"><div class=\"sk-text-repr-fallback\"><pre>MultinomialNB()</pre><b>In a Jupyter environment, please rerun this cell to show the HTML representation or trust the notebook. <br />On GitHub, the HTML representation is unable to render, please try loading this page with nbviewer.org.</b></div><div class=\"sk-container\" hidden><div class=\"sk-item\"><div class=\"sk-estimator sk-toggleable\"><input class=\"sk-toggleable__control sk-hidden--visually\" id=\"sk-estimator-id-1\" type=\"checkbox\" checked><label for=\"sk-estimator-id-1\" class=\"sk-toggleable__label sk-toggleable__label-arrow\">MultinomialNB</label><div class=\"sk-toggleable__content\"><pre>MultinomialNB()</pre></div></div></div></div></div>"
          },
          "execution_count": 24,
          "metadata": {},
          "output_type": "execute_result"
        }
      ],
      "source": [
        "nb.fit(X_train,y_train)"
      ],
      "metadata": {
        "ExecuteTime": {
          "end_time": "2023-09-04T17:43:27.587555Z",
          "start_time": "2023-09-04T17:43:26.987692Z"
        },
        "id": "f1745ed6aa197d92",
        "outputId": "ecb03984-9304-42f5-8c1d-aeb84d408490"
      },
      "id": "f1745ed6aa197d92"
    },
    {
      "cell_type": "raw",
      "source": [
        "Predictions, Accuracy and Confusion Matrix"
      ],
      "metadata": {
        "collapsed": false,
        "id": "1b9bbdda0b7ae233"
      },
      "id": "1b9bbdda0b7ae233"
    },
    {
      "cell_type": "code",
      "execution_count": null,
      "outputs": [
        {
          "name": "stdout",
          "output_type": "stream",
          "text": [
            "Confusion matrix, without normalization\n"
          ]
        },
        {
          "data": {
            "text/plain": "<Figure size 640x480 with 2 Axes>",
            "image/png": "[encoded data removed]"
          },
          "metadata": {},
          "output_type": "display_data"
        }
      ],
      "source": [
        "from sklearn.metrics import confusion_matrix, accuracy_score\n",
        "\n",
        "pred = nb.predict(X_test)\n",
        "acc = accuracy_score(y_test, pred)\n",
        "cm = confusion_matrix(y_test, pred)\n",
        "plot_confusion_matrix(cm, classes=['FAKE', 'REAL'])"
      ],
      "metadata": {
        "ExecuteTime": {
          "end_time": "2023-09-04T17:50:47.418970Z",
          "start_time": "2023-09-04T17:50:46.960554Z"
        },
        "id": "d3e7edf8a45d6d72",
        "outputId": "f4eceb88-1861-49e5-8ecc-2a1341309fe9"
      },
      "id": "d3e7edf8a45d6d72"
    },
    {
      "cell_type": "code",
      "execution_count": null,
      "outputs": [
        {
          "name": "stdout",
          "output_type": "stream",
          "text": [
            "Accuracy = 0.8975\n"
          ]
        }
      ],
      "source": [
        "print(f\"Accuracy = {acc}\")"
      ],
      "metadata": {
        "ExecuteTime": {
          "end_time": "2023-09-04T17:50:40.594764Z",
          "start_time": "2023-09-04T17:50:40.576060Z"
        },
        "id": "2d23b9a6fbd26dec",
        "outputId": "eaf937f3-8c23-494a-e506-07e5343d2052"
      },
      "id": "2d23b9a6fbd26dec"
    },
    {
      "cell_type": "raw",
      "source": [
        "Passive aggresive Classifier"
      ],
      "metadata": {
        "collapsed": false,
        "id": "e9b55ee0a97f1c56"
      },
      "id": "e9b55ee0a97f1c56"
    },
    {
      "cell_type": "code",
      "execution_count": null,
      "outputs": [],
      "source": [
        "from sklearn.linear_model import PassiveAggressiveClassifier"
      ],
      "metadata": {
        "ExecuteTime": {
          "end_time": "2023-09-04T17:52:47.344538Z",
          "start_time": "2023-09-04T17:52:47.326686Z"
        },
        "id": "e1eb361eddf5dca2"
      },
      "id": "e1eb361eddf5dca2"
    },
    {
      "cell_type": "code",
      "execution_count": null,
      "outputs": [
        {
          "data": {
            "text/plain": "PassiveAggressiveClassifier()",
            "text/html": "<style>#sk-container-id-2 {color: black;}#sk-container-id-2 pre{padding: 0;}#sk-container-id-2 div.sk-toggleable {background-color: white;}#sk-container-id-2 label.sk-toggleable__label {cursor: pointer;display: block;width: 100%;margin-bottom: 0;padding: 0.3em;box-sizing: border-box;text-align: center;}#sk-container-id-2 label.sk-toggleable__label-arrow:before {content: \"▸\";float: left;margin-right: 0.25em;color: #696969;}#sk-container-id-2 label.sk-toggleable__label-arrow:hover:before {color: black;}#sk-container-id-2 div.sk-estimator:hover label.sk-toggleable__label-arrow:before {color: black;}#sk-container-id-2 div.sk-toggleable__content {max-height: 0;max-width: 0;overflow: hidden;text-align: left;background-color: #f0f8ff;}#sk-container-id-2 div.sk-toggleable__content pre {margin: 0.2em;color: black;border-radius: 0.25em;background-color: #f0f8ff;}#sk-container-id-2 input.sk-toggleable__control:checked~div.sk-toggleable__content {max-height: 200px;max-width: 100%;overflow: auto;}#sk-container-id-2 input.sk-toggleable__control:checked~label.sk-toggleable__label-arrow:before {content: \"▾\";}#sk-container-id-2 div.sk-estimator input.sk-toggleable__control:checked~label.sk-toggleable__label {background-color: #d4ebff;}#sk-container-id-2 div.sk-label input.sk-toggleable__control:checked~label.sk-toggleable__label {background-color: #d4ebff;}#sk-container-id-2 input.sk-hidden--visually {border: 0;clip: rect(1px 1px 1px 1px);clip: rect(1px, 1px, 1px, 1px);height: 1px;margin: -1px;overflow: hidden;padding: 0;position: absolute;width: 1px;}#sk-container-id-2 div.sk-estimator {font-family: monospace;background-color: #f0f8ff;border: 1px dotted black;border-radius: 0.25em;box-sizing: border-box;margin-bottom: 0.5em;}#sk-container-id-2 div.sk-estimator:hover {background-color: #d4ebff;}#sk-container-id-2 div.sk-parallel-item::after {content: \"\";width: 100%;border-bottom: 1px solid gray;flex-grow: 1;}#sk-container-id-2 div.sk-label:hover label.sk-toggleable__label {background-color: #d4ebff;}#sk-container-id-2 div.sk-serial::before {content: \"\";position: absolute;border-left: 1px solid gray;box-sizing: border-box;top: 0;bottom: 0;left: 50%;z-index: 0;}#sk-container-id-2 div.sk-serial {display: flex;flex-direction: column;align-items: center;background-color: white;padding-right: 0.2em;padding-left: 0.2em;position: relative;}#sk-container-id-2 div.sk-item {position: relative;z-index: 1;}#sk-container-id-2 div.sk-parallel {display: flex;align-items: stretch;justify-content: center;background-color: white;position: relative;}#sk-container-id-2 div.sk-item::before, #sk-container-id-2 div.sk-parallel-item::before {content: \"\";position: absolute;border-left: 1px solid gray;box-sizing: border-box;top: 0;bottom: 0;left: 50%;z-index: -1;}#sk-container-id-2 div.sk-parallel-item {display: flex;flex-direction: column;z-index: 1;position: relative;background-color: white;}#sk-container-id-2 div.sk-parallel-item:first-child::after {align-self: flex-end;width: 50%;}#sk-container-id-2 div.sk-parallel-item:last-child::after {align-self: flex-start;width: 50%;}#sk-container-id-2 div.sk-parallel-item:only-child::after {width: 0;}#sk-container-id-2 div.sk-dashed-wrapped {border: 1px dashed gray;margin: 0 0.4em 0.5em 0.4em;box-sizing: border-box;padding-bottom: 0.4em;background-color: white;}#sk-container-id-2 div.sk-label label {font-family: monospace;font-weight: bold;display: inline-block;line-height: 1.2em;}#sk-container-id-2 div.sk-label-container {text-align: center;}#sk-container-id-2 div.sk-container {/* jupyter's `normalize.less` sets `[hidden] { display: none; }` but bootstrap.min.css set `[hidden] { display: none !important; }` so we also need the `!important` here to be able to override the default hidden behavior on the sphinx rendered scikit-learn.org. See: https://github.com/scikit-learn/scikit-learn/issues/21755 */display: inline-block !important;position: relative;}#sk-container-id-2 div.sk-text-repr-fallback {display: none;}</style><div id=\"sk-container-id-2\" class=\"sk-top-container\"><div class=\"sk-text-repr-fallback\"><pre>PassiveAggressiveClassifier()</pre><b>In a Jupyter environment, please rerun this cell to show the HTML representation or trust the notebook. <br />On GitHub, the HTML representation is unable to render, please try loading this page with nbviewer.org.</b></div><div class=\"sk-container\" hidden><div class=\"sk-item\"><div class=\"sk-estimator sk-toggleable\"><input class=\"sk-toggleable__control sk-hidden--visually\" id=\"sk-estimator-id-2\" type=\"checkbox\" checked><label for=\"sk-estimator-id-2\" class=\"sk-toggleable__label sk-toggleable__label-arrow\">PassiveAggressiveClassifier</label><div class=\"sk-toggleable__content\"><pre>PassiveAggressiveClassifier()</pre></div></div></div></div></div>"
          },
          "execution_count": 32,
          "metadata": {},
          "output_type": "execute_result"
        }
      ],
      "source": [
        "cl = PassiveAggressiveClassifier()\n",
        "cl.fit(X_train,y_train)"
      ],
      "metadata": {
        "ExecuteTime": {
          "end_time": "2023-09-04T17:54:17.501267Z",
          "start_time": "2023-09-04T17:54:13.295589Z"
        },
        "id": "cc0179e7f3dbd75f",
        "outputId": "dc7c4fd9-4304-4087-9280-8dced01c6c1a"
      },
      "id": "cc0179e7f3dbd75f"
    },
    {
      "cell_type": "code",
      "execution_count": null,
      "outputs": [
        {
          "name": "stdout",
          "output_type": "stream",
          "text": [
            "Confusion matrix, without normalization\n"
          ]
        },
        {
          "data": {
            "text/plain": "<Figure size 640x480 with 2 Axes>",
            "image/png": "[encoded data removed]"
          },
          "metadata": {},
          "output_type": "display_data"
        }
      ],
      "source": [
        "pred2 = cl.predict(X_test)\n",
        "acc2 = accuracy_score(y_test, pred2)\n",
        "cm2 = confusion_matrix(y_test, pred2)\n",
        "plot_confusion_matrix(cm2, classes=['FAKE', 'REAL'])"
      ],
      "metadata": {
        "ExecuteTime": {
          "end_time": "2023-09-04T17:55:13.063531Z",
          "start_time": "2023-09-04T17:55:12.830409Z"
        },
        "id": "ff9ed6f19f741889",
        "outputId": "3b8113e7-4ce7-4c1b-8705-749fdc7873ad"
      },
      "id": "ff9ed6f19f741889"
    },
    {
      "cell_type": "code",
      "execution_count": null,
      "outputs": [
        {
          "name": "stdout",
          "output_type": "stream",
          "text": [
            "Accuracy = 0.9175\n"
          ]
        }
      ],
      "source": [
        "print(f\"Accuracy = {acc2}\")"
      ],
      "metadata": {
        "ExecuteTime": {
          "end_time": "2023-09-04T17:55:32.366759Z",
          "start_time": "2023-09-04T17:55:32.345478Z"
        },
        "id": "13d2939742f5c8e6",
        "outputId": "b01c4a35-fba0-4fc2-efda-eb3c6dda07c3"
      },
      "id": "13d2939742f5c8e6"
    },
    {
      "cell_type": "raw",
      "source": [
        "Multinomial NB with changing Hyperparameter (alpha)"
      ],
      "metadata": {
        "collapsed": false,
        "id": "17446f5161c2ffa6"
      },
      "id": "17446f5161c2ffa6"
    },
    {
      "cell_type": "code",
      "execution_count": null,
      "outputs": [],
      "source": [
        "clf = MultinomialNB(alpha=0.1)"
      ],
      "metadata": {
        "ExecuteTime": {
          "end_time": "2023-09-04T18:05:12.388454Z",
          "start_time": "2023-09-04T18:05:12.370743Z"
        },
        "id": "1b4084578e5c96a8"
      },
      "id": "1b4084578e5c96a8"
    },
    {
      "cell_type": "code",
      "execution_count": null,
      "outputs": [
        {
          "name": "stderr",
          "output_type": "stream",
          "text": [
            "/Users/virum/PycharmProjects/NLP/venv/lib/python3.11/site-packages/sklearn/naive_bayes.py:624: FutureWarning: The default value for `force_alpha` will change to `True` in 1.4. To suppress this warning, manually set the value of `force_alpha`.\n",
            "  warnings.warn(\n",
            "/Users/virum/PycharmProjects/NLP/venv/lib/python3.11/site-packages/sklearn/naive_bayes.py:633: UserWarning: alpha too small will result in numeric errors, setting alpha = 1.0e-10. Use `force_alpha=True` to keep alpha unchanged.\n",
            "  warnings.warn(\n"
          ]
        },
        {
          "name": "stdout",
          "output_type": "stream",
          "text": [
            "Alpha: 0.0, Accuracy Score : 0.88703125\n",
            "Alpha: 0.1, Accuracy Score : 0.90015625\n",
            "Alpha: 0.2, Accuracy Score : 0.90109375\n",
            "Alpha: 0.3, Accuracy Score : 0.89953125\n",
            "Alpha: 0.4, Accuracy Score : 0.89984375\n",
            "Alpha: 0.5, Accuracy Score : 0.89875\n",
            "Alpha: 0.6, Accuracy Score : 0.89984375\n",
            "Alpha: 0.7, Accuracy Score : 0.8990625\n",
            "Alpha: 0.8, Accuracy Score : 0.89828125\n",
            "Alpha: 0.9, Accuracy Score : 0.898125\n"
          ]
        }
      ],
      "source": [
        "max_acc=0\n",
        "for alpha in np.arange(0,1,0.1):\n",
        "    classifier=MultinomialNB(alpha=alpha)\n",
        "    classifier.fit(X_train,y_train)\n",
        "    y_pred=classifier.predict(X_test)\n",
        "    accuracy = accuracy_score(y_test, y_pred)\n",
        "    if accuracy>max_acc:\n",
        "        clf=classifier\n",
        "    print(f\"Alpha: %0.1f, Accuracy Score : {accuracy}\"%alpha)\n",
        "\n",
        "import warnings\n",
        "warnings.filterwarnings('ignore')"
      ],
      "metadata": {
        "ExecuteTime": {
          "end_time": "2023-09-04T18:07:14.721554Z",
          "start_time": "2023-09-04T18:07:08.115789Z"
        },
        "id": "4e0b43ba6059a15",
        "outputId": "11478e4f-4556-45e2-aa3a-0c76d73e5a4e"
      },
      "id": "4e0b43ba6059a15"
    },
    {
      "cell_type": "code",
      "execution_count": null,
      "outputs": [],
      "source": [],
      "metadata": {
        "id": "9b847994e7504830"
      },
      "id": "9b847994e7504830"
    }
  ],
  "metadata": {
    "kernelspec": {
      "display_name": "Python 3",
      "language": "python",
      "name": "python3"
    },
    "language_info": {
      "codemirror_mode": {
        "name": "ipython",
        "version": 2
      },
      "file_extension": ".py",
      "mimetype": "text/x-python",
      "name": "python",
      "nbconvert_exporter": "python",
      "pygments_lexer": "ipython2",
      "version": "2.7.6"
    },
    "colab": {
      "provenance": [],
      "include_colab_link": true
    }
  },
  "nbformat": 4,
  "nbformat_minor": 5
}